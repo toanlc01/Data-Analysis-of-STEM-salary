{
 "cells": [
  {
   "cell_type": "markdown",
   "id": "cc158056",
   "metadata": {},
   "source": [
    "## Questions I'd love to answer doing the analysis of this dataset"
   ]
  },
  {
   "cell_type": "markdown",
   "id": "4e4db6da",
   "metadata": {},
   "source": [
    "1. Is there a gender pay gap in STEM jobs?"
   ]
  },
  {
   "cell_type": "markdown",
   "id": "68230095",
   "metadata": {},
   "source": [
    "2. Is there a pay gap between races in STEM jobs?"
   ]
  },
  {
   "cell_type": "code",
   "execution_count": 2,
   "id": "ce35b8c1",
   "metadata": {},
   "outputs": [],
   "source": [
    "import pandas as pd"
   ]
  },
  {
   "cell_type": "code",
   "execution_count": 3,
   "id": "ac4b5da7",
   "metadata": {},
   "outputs": [],
   "source": [
    "df = pd.read_csv(\"STEM_Salary_Data.csv\")"
   ]
  },
  {
   "cell_type": "code",
   "execution_count": 4,
   "id": "b6952c48",
   "metadata": {},
   "outputs": [],
   "source": [
    "# set the maximum number of columns to display\n",
    "pd.set_option('display.max_columns', None)"
   ]
  },
  {
   "cell_type": "code",
   "execution_count": 5,
   "id": "730b4a9e",
   "metadata": {},
   "outputs": [
    {
     "data": {
      "text/html": [
       "<div>\n",
       "<style scoped>\n",
       "    .dataframe tbody tr th:only-of-type {\n",
       "        vertical-align: middle;\n",
       "    }\n",
       "\n",
       "    .dataframe tbody tr th {\n",
       "        vertical-align: top;\n",
       "    }\n",
       "\n",
       "    .dataframe thead th {\n",
       "        text-align: right;\n",
       "    }\n",
       "</style>\n",
       "<table border=\"1\" class=\"dataframe\">\n",
       "  <thead>\n",
       "    <tr style=\"text-align: right;\">\n",
       "      <th></th>\n",
       "      <th>timestamp</th>\n",
       "      <th>company</th>\n",
       "      <th>level</th>\n",
       "      <th>title</th>\n",
       "      <th>totalyearlycompensation</th>\n",
       "      <th>location</th>\n",
       "      <th>yearsofexperience</th>\n",
       "      <th>yearsatcompany</th>\n",
       "      <th>tag</th>\n",
       "      <th>basesalary</th>\n",
       "      <th>stockgrantvalue</th>\n",
       "      <th>bonus</th>\n",
       "      <th>gender</th>\n",
       "      <th>otherdetails</th>\n",
       "      <th>cityid</th>\n",
       "      <th>dmaid</th>\n",
       "      <th>rowNumber</th>\n",
       "      <th>Masters_Degree</th>\n",
       "      <th>Bachelors_Degree</th>\n",
       "      <th>Doctorate_Degree</th>\n",
       "      <th>Highschool</th>\n",
       "      <th>Some_College</th>\n",
       "      <th>Race_Asian</th>\n",
       "      <th>Race_White</th>\n",
       "      <th>Race_Two_Or_More</th>\n",
       "      <th>Race_Black</th>\n",
       "      <th>Race_Hispanic</th>\n",
       "      <th>Race</th>\n",
       "      <th>Education</th>\n",
       "    </tr>\n",
       "  </thead>\n",
       "  <tbody>\n",
       "    <tr>\n",
       "      <th>0</th>\n",
       "      <td>6/7/2017 11:33:27</td>\n",
       "      <td>Oracle</td>\n",
       "      <td>L3</td>\n",
       "      <td>Product Manager</td>\n",
       "      <td>127000</td>\n",
       "      <td>Redwood City, CA</td>\n",
       "      <td>1.5</td>\n",
       "      <td>1.5</td>\n",
       "      <td>NaN</td>\n",
       "      <td>107000.0</td>\n",
       "      <td>20000.0</td>\n",
       "      <td>10000.0</td>\n",
       "      <td>NaN</td>\n",
       "      <td>NaN</td>\n",
       "      <td>7392</td>\n",
       "      <td>807.0</td>\n",
       "      <td>1</td>\n",
       "      <td>0</td>\n",
       "      <td>0</td>\n",
       "      <td>0</td>\n",
       "      <td>0</td>\n",
       "      <td>0</td>\n",
       "      <td>0</td>\n",
       "      <td>0</td>\n",
       "      <td>0</td>\n",
       "      <td>0</td>\n",
       "      <td>0</td>\n",
       "      <td>NaN</td>\n",
       "      <td>NaN</td>\n",
       "    </tr>\n",
       "    <tr>\n",
       "      <th>1</th>\n",
       "      <td>6/10/2017 17:11:29</td>\n",
       "      <td>eBay</td>\n",
       "      <td>SE 2</td>\n",
       "      <td>Software Engineer</td>\n",
       "      <td>100000</td>\n",
       "      <td>San Francisco, CA</td>\n",
       "      <td>5.0</td>\n",
       "      <td>3.0</td>\n",
       "      <td>NaN</td>\n",
       "      <td>0.0</td>\n",
       "      <td>0.0</td>\n",
       "      <td>0.0</td>\n",
       "      <td>NaN</td>\n",
       "      <td>NaN</td>\n",
       "      <td>7419</td>\n",
       "      <td>807.0</td>\n",
       "      <td>2</td>\n",
       "      <td>0</td>\n",
       "      <td>0</td>\n",
       "      <td>0</td>\n",
       "      <td>0</td>\n",
       "      <td>0</td>\n",
       "      <td>0</td>\n",
       "      <td>0</td>\n",
       "      <td>0</td>\n",
       "      <td>0</td>\n",
       "      <td>0</td>\n",
       "      <td>NaN</td>\n",
       "      <td>NaN</td>\n",
       "    </tr>\n",
       "    <tr>\n",
       "      <th>2</th>\n",
       "      <td>6/11/2017 14:53:57</td>\n",
       "      <td>Amazon</td>\n",
       "      <td>L7</td>\n",
       "      <td>Product Manager</td>\n",
       "      <td>310000</td>\n",
       "      <td>Seattle, WA</td>\n",
       "      <td>8.0</td>\n",
       "      <td>0.0</td>\n",
       "      <td>NaN</td>\n",
       "      <td>155000.0</td>\n",
       "      <td>0.0</td>\n",
       "      <td>0.0</td>\n",
       "      <td>NaN</td>\n",
       "      <td>NaN</td>\n",
       "      <td>11527</td>\n",
       "      <td>819.0</td>\n",
       "      <td>3</td>\n",
       "      <td>0</td>\n",
       "      <td>0</td>\n",
       "      <td>0</td>\n",
       "      <td>0</td>\n",
       "      <td>0</td>\n",
       "      <td>0</td>\n",
       "      <td>0</td>\n",
       "      <td>0</td>\n",
       "      <td>0</td>\n",
       "      <td>0</td>\n",
       "      <td>NaN</td>\n",
       "      <td>NaN</td>\n",
       "    </tr>\n",
       "    <tr>\n",
       "      <th>3</th>\n",
       "      <td>6/17/2017 0:23:14</td>\n",
       "      <td>Apple</td>\n",
       "      <td>M1</td>\n",
       "      <td>Software Engineering Manager</td>\n",
       "      <td>372000</td>\n",
       "      <td>Sunnyvale, CA</td>\n",
       "      <td>7.0</td>\n",
       "      <td>5.0</td>\n",
       "      <td>NaN</td>\n",
       "      <td>157000.0</td>\n",
       "      <td>180000.0</td>\n",
       "      <td>35000.0</td>\n",
       "      <td>NaN</td>\n",
       "      <td>NaN</td>\n",
       "      <td>7472</td>\n",
       "      <td>807.0</td>\n",
       "      <td>7</td>\n",
       "      <td>0</td>\n",
       "      <td>0</td>\n",
       "      <td>0</td>\n",
       "      <td>0</td>\n",
       "      <td>0</td>\n",
       "      <td>0</td>\n",
       "      <td>0</td>\n",
       "      <td>0</td>\n",
       "      <td>0</td>\n",
       "      <td>0</td>\n",
       "      <td>NaN</td>\n",
       "      <td>NaN</td>\n",
       "    </tr>\n",
       "    <tr>\n",
       "      <th>4</th>\n",
       "      <td>6/20/2017 10:58:51</td>\n",
       "      <td>Microsoft</td>\n",
       "      <td>60</td>\n",
       "      <td>Software Engineer</td>\n",
       "      <td>157000</td>\n",
       "      <td>Mountain View, CA</td>\n",
       "      <td>5.0</td>\n",
       "      <td>3.0</td>\n",
       "      <td>NaN</td>\n",
       "      <td>0.0</td>\n",
       "      <td>0.0</td>\n",
       "      <td>0.0</td>\n",
       "      <td>NaN</td>\n",
       "      <td>NaN</td>\n",
       "      <td>7322</td>\n",
       "      <td>807.0</td>\n",
       "      <td>9</td>\n",
       "      <td>0</td>\n",
       "      <td>0</td>\n",
       "      <td>0</td>\n",
       "      <td>0</td>\n",
       "      <td>0</td>\n",
       "      <td>0</td>\n",
       "      <td>0</td>\n",
       "      <td>0</td>\n",
       "      <td>0</td>\n",
       "      <td>0</td>\n",
       "      <td>NaN</td>\n",
       "      <td>NaN</td>\n",
       "    </tr>\n",
       "  </tbody>\n",
       "</table>\n",
       "</div>"
      ],
      "text/plain": [
       "            timestamp    company level                         title  \\\n",
       "0   6/7/2017 11:33:27     Oracle    L3               Product Manager   \n",
       "1  6/10/2017 17:11:29       eBay  SE 2             Software Engineer   \n",
       "2  6/11/2017 14:53:57     Amazon    L7               Product Manager   \n",
       "3   6/17/2017 0:23:14      Apple    M1  Software Engineering Manager   \n",
       "4  6/20/2017 10:58:51  Microsoft    60             Software Engineer   \n",
       "\n",
       "   totalyearlycompensation           location  yearsofexperience  \\\n",
       "0                   127000   Redwood City, CA                1.5   \n",
       "1                   100000  San Francisco, CA                5.0   \n",
       "2                   310000        Seattle, WA                8.0   \n",
       "3                   372000      Sunnyvale, CA                7.0   \n",
       "4                   157000  Mountain View, CA                5.0   \n",
       "\n",
       "   yearsatcompany  tag  basesalary  stockgrantvalue    bonus gender  \\\n",
       "0             1.5  NaN    107000.0          20000.0  10000.0    NaN   \n",
       "1             3.0  NaN         0.0              0.0      0.0    NaN   \n",
       "2             0.0  NaN    155000.0              0.0      0.0    NaN   \n",
       "3             5.0  NaN    157000.0         180000.0  35000.0    NaN   \n",
       "4             3.0  NaN         0.0              0.0      0.0    NaN   \n",
       "\n",
       "  otherdetails  cityid  dmaid  rowNumber  Masters_Degree  Bachelors_Degree  \\\n",
       "0          NaN    7392  807.0          1               0                 0   \n",
       "1          NaN    7419  807.0          2               0                 0   \n",
       "2          NaN   11527  819.0          3               0                 0   \n",
       "3          NaN    7472  807.0          7               0                 0   \n",
       "4          NaN    7322  807.0          9               0                 0   \n",
       "\n",
       "   Doctorate_Degree  Highschool  Some_College  Race_Asian  Race_White  \\\n",
       "0                 0           0             0           0           0   \n",
       "1                 0           0             0           0           0   \n",
       "2                 0           0             0           0           0   \n",
       "3                 0           0             0           0           0   \n",
       "4                 0           0             0           0           0   \n",
       "\n",
       "   Race_Two_Or_More  Race_Black  Race_Hispanic Race Education  \n",
       "0                 0           0              0  NaN       NaN  \n",
       "1                 0           0              0  NaN       NaN  \n",
       "2                 0           0              0  NaN       NaN  \n",
       "3                 0           0              0  NaN       NaN  \n",
       "4                 0           0              0  NaN       NaN  "
      ]
     },
     "execution_count": 5,
     "metadata": {},
     "output_type": "execute_result"
    }
   ],
   "source": [
    "df.head()"
   ]
  },
  {
   "cell_type": "markdown",
   "id": "02cb8d97",
   "metadata": {},
   "source": [
    "The gender column contains NaN values. So let's create a new dataset from the old one but not include the NaN values"
   ]
  },
  {
   "cell_type": "code",
   "execution_count": 6,
   "id": "1413f543",
   "metadata": {},
   "outputs": [],
   "source": [
    "df_new = df.dropna(subset=['gender'])"
   ]
  },
  {
   "cell_type": "code",
   "execution_count": 7,
   "id": "a85e47f2",
   "metadata": {},
   "outputs": [
    {
     "data": {
      "text/html": [
       "<div>\n",
       "<style scoped>\n",
       "    .dataframe tbody tr th:only-of-type {\n",
       "        vertical-align: middle;\n",
       "    }\n",
       "\n",
       "    .dataframe tbody tr th {\n",
       "        vertical-align: top;\n",
       "    }\n",
       "\n",
       "    .dataframe thead th {\n",
       "        text-align: right;\n",
       "    }\n",
       "</style>\n",
       "<table border=\"1\" class=\"dataframe\">\n",
       "  <thead>\n",
       "    <tr style=\"text-align: right;\">\n",
       "      <th></th>\n",
       "      <th>timestamp</th>\n",
       "      <th>company</th>\n",
       "      <th>level</th>\n",
       "      <th>title</th>\n",
       "      <th>totalyearlycompensation</th>\n",
       "      <th>location</th>\n",
       "      <th>yearsofexperience</th>\n",
       "      <th>yearsatcompany</th>\n",
       "      <th>tag</th>\n",
       "      <th>basesalary</th>\n",
       "      <th>stockgrantvalue</th>\n",
       "      <th>bonus</th>\n",
       "      <th>gender</th>\n",
       "      <th>otherdetails</th>\n",
       "      <th>cityid</th>\n",
       "      <th>dmaid</th>\n",
       "      <th>rowNumber</th>\n",
       "      <th>Masters_Degree</th>\n",
       "      <th>Bachelors_Degree</th>\n",
       "      <th>Doctorate_Degree</th>\n",
       "      <th>Highschool</th>\n",
       "      <th>Some_College</th>\n",
       "      <th>Race_Asian</th>\n",
       "      <th>Race_White</th>\n",
       "      <th>Race_Two_Or_More</th>\n",
       "      <th>Race_Black</th>\n",
       "      <th>Race_Hispanic</th>\n",
       "      <th>Race</th>\n",
       "      <th>Education</th>\n",
       "    </tr>\n",
       "  </thead>\n",
       "  <tbody>\n",
       "    <tr>\n",
       "      <th>264</th>\n",
       "      <td>4/12/2018 16:15:32</td>\n",
       "      <td>GE Digital</td>\n",
       "      <td>Senior</td>\n",
       "      <td>Software Engineer</td>\n",
       "      <td>140000</td>\n",
       "      <td>San Ramon, CA</td>\n",
       "      <td>4.0</td>\n",
       "      <td>4.0</td>\n",
       "      <td>NaN</td>\n",
       "      <td>130000.0</td>\n",
       "      <td>0.0</td>\n",
       "      <td>10000.0</td>\n",
       "      <td>Male</td>\n",
       "      <td>NaN</td>\n",
       "      <td>7430</td>\n",
       "      <td>807.0</td>\n",
       "      <td>479</td>\n",
       "      <td>0</td>\n",
       "      <td>0</td>\n",
       "      <td>0</td>\n",
       "      <td>0</td>\n",
       "      <td>0</td>\n",
       "      <td>0</td>\n",
       "      <td>0</td>\n",
       "      <td>0</td>\n",
       "      <td>0</td>\n",
       "      <td>0</td>\n",
       "      <td>NaN</td>\n",
       "      <td>NaN</td>\n",
       "    </tr>\n",
       "    <tr>\n",
       "      <th>265</th>\n",
       "      <td>4/12/2018 23:19:33</td>\n",
       "      <td>Amazon</td>\n",
       "      <td>L5</td>\n",
       "      <td>Software Engineer</td>\n",
       "      <td>172000</td>\n",
       "      <td>Seattle, WA</td>\n",
       "      <td>12.0</td>\n",
       "      <td>2.0</td>\n",
       "      <td>NaN</td>\n",
       "      <td>142000.0</td>\n",
       "      <td>30000.0</td>\n",
       "      <td>0.0</td>\n",
       "      <td>Male</td>\n",
       "      <td>SDET, not SDE</td>\n",
       "      <td>11527</td>\n",
       "      <td>819.0</td>\n",
       "      <td>480</td>\n",
       "      <td>0</td>\n",
       "      <td>0</td>\n",
       "      <td>0</td>\n",
       "      <td>0</td>\n",
       "      <td>0</td>\n",
       "      <td>0</td>\n",
       "      <td>0</td>\n",
       "      <td>0</td>\n",
       "      <td>0</td>\n",
       "      <td>0</td>\n",
       "      <td>NaN</td>\n",
       "      <td>NaN</td>\n",
       "    </tr>\n",
       "    <tr>\n",
       "      <th>266</th>\n",
       "      <td>4/13/2018 6:32:17</td>\n",
       "      <td>Uber</td>\n",
       "      <td>L5</td>\n",
       "      <td>Software Engineer</td>\n",
       "      <td>325000</td>\n",
       "      <td>San Francisco, CA</td>\n",
       "      <td>7.0</td>\n",
       "      <td>2.0</td>\n",
       "      <td>NaN</td>\n",
       "      <td>161000.0</td>\n",
       "      <td>140000.0</td>\n",
       "      <td>25000.0</td>\n",
       "      <td>Male</td>\n",
       "      <td>NaN</td>\n",
       "      <td>7419</td>\n",
       "      <td>807.0</td>\n",
       "      <td>481</td>\n",
       "      <td>0</td>\n",
       "      <td>0</td>\n",
       "      <td>0</td>\n",
       "      <td>0</td>\n",
       "      <td>0</td>\n",
       "      <td>0</td>\n",
       "      <td>0</td>\n",
       "      <td>0</td>\n",
       "      <td>0</td>\n",
       "      <td>0</td>\n",
       "      <td>NaN</td>\n",
       "      <td>NaN</td>\n",
       "    </tr>\n",
       "    <tr>\n",
       "      <th>269</th>\n",
       "      <td>4/14/2018 13:05:22</td>\n",
       "      <td>Microsoft</td>\n",
       "      <td>60</td>\n",
       "      <td>Software Engineer</td>\n",
       "      <td>150000</td>\n",
       "      <td>Seattle, WA</td>\n",
       "      <td>4.0</td>\n",
       "      <td>0.0</td>\n",
       "      <td>NaN</td>\n",
       "      <td>118000.0</td>\n",
       "      <td>5000.0</td>\n",
       "      <td>12000.0</td>\n",
       "      <td>Male</td>\n",
       "      <td>NaN</td>\n",
       "      <td>11527</td>\n",
       "      <td>819.0</td>\n",
       "      <td>486</td>\n",
       "      <td>0</td>\n",
       "      <td>0</td>\n",
       "      <td>0</td>\n",
       "      <td>0</td>\n",
       "      <td>0</td>\n",
       "      <td>0</td>\n",
       "      <td>0</td>\n",
       "      <td>0</td>\n",
       "      <td>0</td>\n",
       "      <td>0</td>\n",
       "      <td>NaN</td>\n",
       "      <td>NaN</td>\n",
       "    </tr>\n",
       "    <tr>\n",
       "      <th>270</th>\n",
       "      <td>4/15/2018 11:47:53</td>\n",
       "      <td>Google</td>\n",
       "      <td>L6</td>\n",
       "      <td>Software Engineer</td>\n",
       "      <td>640000</td>\n",
       "      <td>Mountain View, CA</td>\n",
       "      <td>11.0</td>\n",
       "      <td>4.0</td>\n",
       "      <td>NaN</td>\n",
       "      <td>210000.0</td>\n",
       "      <td>380000.0</td>\n",
       "      <td>50000.0</td>\n",
       "      <td>Male</td>\n",
       "      <td>NaN</td>\n",
       "      <td>7322</td>\n",
       "      <td>807.0</td>\n",
       "      <td>489</td>\n",
       "      <td>0</td>\n",
       "      <td>0</td>\n",
       "      <td>0</td>\n",
       "      <td>0</td>\n",
       "      <td>0</td>\n",
       "      <td>0</td>\n",
       "      <td>0</td>\n",
       "      <td>0</td>\n",
       "      <td>0</td>\n",
       "      <td>0</td>\n",
       "      <td>NaN</td>\n",
       "      <td>NaN</td>\n",
       "    </tr>\n",
       "  </tbody>\n",
       "</table>\n",
       "</div>"
      ],
      "text/plain": [
       "              timestamp     company   level              title  \\\n",
       "264  4/12/2018 16:15:32  GE Digital  Senior  Software Engineer   \n",
       "265  4/12/2018 23:19:33      Amazon      L5  Software Engineer   \n",
       "266   4/13/2018 6:32:17        Uber      L5  Software Engineer   \n",
       "269  4/14/2018 13:05:22   Microsoft      60  Software Engineer   \n",
       "270  4/15/2018 11:47:53      Google      L6  Software Engineer   \n",
       "\n",
       "     totalyearlycompensation           location  yearsofexperience  \\\n",
       "264                   140000      San Ramon, CA                4.0   \n",
       "265                   172000        Seattle, WA               12.0   \n",
       "266                   325000  San Francisco, CA                7.0   \n",
       "269                   150000        Seattle, WA                4.0   \n",
       "270                   640000  Mountain View, CA               11.0   \n",
       "\n",
       "     yearsatcompany  tag  basesalary  stockgrantvalue    bonus gender  \\\n",
       "264             4.0  NaN    130000.0              0.0  10000.0   Male   \n",
       "265             2.0  NaN    142000.0          30000.0      0.0   Male   \n",
       "266             2.0  NaN    161000.0         140000.0  25000.0   Male   \n",
       "269             0.0  NaN    118000.0           5000.0  12000.0   Male   \n",
       "270             4.0  NaN    210000.0         380000.0  50000.0   Male   \n",
       "\n",
       "      otherdetails  cityid  dmaid  rowNumber  Masters_Degree  \\\n",
       "264            NaN    7430  807.0        479               0   \n",
       "265  SDET, not SDE   11527  819.0        480               0   \n",
       "266            NaN    7419  807.0        481               0   \n",
       "269            NaN   11527  819.0        486               0   \n",
       "270            NaN    7322  807.0        489               0   \n",
       "\n",
       "     Bachelors_Degree  Doctorate_Degree  Highschool  Some_College  Race_Asian  \\\n",
       "264                 0                 0           0             0           0   \n",
       "265                 0                 0           0             0           0   \n",
       "266                 0                 0           0             0           0   \n",
       "269                 0                 0           0             0           0   \n",
       "270                 0                 0           0             0           0   \n",
       "\n",
       "     Race_White  Race_Two_Or_More  Race_Black  Race_Hispanic Race Education  \n",
       "264           0                 0           0              0  NaN       NaN  \n",
       "265           0                 0           0              0  NaN       NaN  \n",
       "266           0                 0           0              0  NaN       NaN  \n",
       "269           0                 0           0              0  NaN       NaN  \n",
       "270           0                 0           0              0  NaN       NaN  "
      ]
     },
     "execution_count": 7,
     "metadata": {},
     "output_type": "execute_result"
    }
   ],
   "source": [
    "df_new.head()"
   ]
  },
  {
   "cell_type": "code",
   "execution_count": 8,
   "id": "e7243c60",
   "metadata": {},
   "outputs": [
    {
     "data": {
      "text/plain": [
       "array(['Male', 'Female', 'Other', 'Title: Senior Software Engineer'],\n",
       "      dtype=object)"
      ]
     },
     "execution_count": 8,
     "metadata": {},
     "output_type": "execute_result"
    }
   ],
   "source": [
    "df_new[\"gender\"].unique()"
   ]
  },
  {
   "cell_type": "code",
   "execution_count": 9,
   "id": "d5ba1213",
   "metadata": {},
   "outputs": [
    {
     "data": {
      "text/plain": [
       "Male                               35702\n",
       "Female                              6999\n",
       "Other                                400\n",
       "Title: Senior Software Engineer        1\n",
       "Name: gender, dtype: int64"
      ]
     },
     "execution_count": 9,
     "metadata": {},
     "output_type": "execute_result"
    }
   ],
   "source": [
    "df_new[\"gender\"].value_counts()"
   ]
  },
  {
   "cell_type": "markdown",
   "id": "9b650249",
   "metadata": {},
   "source": [
    "a majority of data points are male (35000) while only 7000 data points are female"
   ]
  },
  {
   "cell_type": "markdown",
   "id": "7a560e1e",
   "metadata": {},
   "source": [
    "Let's select the relevant columns for our analysis, which includes gender, job title, and salary income"
   ]
  },
  {
   "cell_type": "markdown",
   "id": "f4736725",
   "metadata": {},
   "source": [
    "Obviously, we can also choose other relevant columns like location, years of experience, etc to analyze the pay gap as well but doing this means that it can result in smaller sample sizes for some groups, which can impact the reliability of our findings"
   ]
  },
  {
   "cell_type": "code",
   "execution_count": 148,
   "id": "f78331e7",
   "metadata": {},
   "outputs": [],
   "source": [
    "# Select relevant columns\n",
    "columns = ['gender', 'totalyearlycompensation', 'title']\n",
    "df1 = df_new.loc[:, columns]"
   ]
  },
  {
   "cell_type": "code",
   "execution_count": 22,
   "id": "28fec65d",
   "metadata": {},
   "outputs": [
    {
     "data": {
      "text/html": [
       "<div>\n",
       "<style scoped>\n",
       "    .dataframe tbody tr th:only-of-type {\n",
       "        vertical-align: middle;\n",
       "    }\n",
       "\n",
       "    .dataframe tbody tr th {\n",
       "        vertical-align: top;\n",
       "    }\n",
       "\n",
       "    .dataframe thead th {\n",
       "        text-align: right;\n",
       "    }\n",
       "</style>\n",
       "<table border=\"1\" class=\"dataframe\">\n",
       "  <thead>\n",
       "    <tr style=\"text-align: right;\">\n",
       "      <th></th>\n",
       "      <th>gender</th>\n",
       "      <th>totalyearlycompensation</th>\n",
       "      <th>title</th>\n",
       "    </tr>\n",
       "  </thead>\n",
       "  <tbody>\n",
       "    <tr>\n",
       "      <th>264</th>\n",
       "      <td>Male</td>\n",
       "      <td>140000</td>\n",
       "      <td>Software Engineer</td>\n",
       "    </tr>\n",
       "    <tr>\n",
       "      <th>265</th>\n",
       "      <td>Male</td>\n",
       "      <td>172000</td>\n",
       "      <td>Software Engineer</td>\n",
       "    </tr>\n",
       "    <tr>\n",
       "      <th>266</th>\n",
       "      <td>Male</td>\n",
       "      <td>325000</td>\n",
       "      <td>Software Engineer</td>\n",
       "    </tr>\n",
       "    <tr>\n",
       "      <th>269</th>\n",
       "      <td>Male</td>\n",
       "      <td>150000</td>\n",
       "      <td>Software Engineer</td>\n",
       "    </tr>\n",
       "    <tr>\n",
       "      <th>270</th>\n",
       "      <td>Male</td>\n",
       "      <td>640000</td>\n",
       "      <td>Software Engineer</td>\n",
       "    </tr>\n",
       "    <tr>\n",
       "      <th>...</th>\n",
       "      <td>...</td>\n",
       "      <td>...</td>\n",
       "      <td>...</td>\n",
       "    </tr>\n",
       "    <tr>\n",
       "      <th>62610</th>\n",
       "      <td>Male</td>\n",
       "      <td>135000</td>\n",
       "      <td>Software Engineer</td>\n",
       "    </tr>\n",
       "    <tr>\n",
       "      <th>62611</th>\n",
       "      <td>Male</td>\n",
       "      <td>350000</td>\n",
       "      <td>Software Engineer</td>\n",
       "    </tr>\n",
       "    <tr>\n",
       "      <th>62612</th>\n",
       "      <td>Female</td>\n",
       "      <td>305000</td>\n",
       "      <td>Product Manager</td>\n",
       "    </tr>\n",
       "    <tr>\n",
       "      <th>62613</th>\n",
       "      <td>Male</td>\n",
       "      <td>152000</td>\n",
       "      <td>Software Engineer</td>\n",
       "    </tr>\n",
       "    <tr>\n",
       "      <th>62641</th>\n",
       "      <td>Male</td>\n",
       "      <td>200000</td>\n",
       "      <td>Software Engineer</td>\n",
       "    </tr>\n",
       "  </tbody>\n",
       "</table>\n",
       "<p>43102 rows × 3 columns</p>\n",
       "</div>"
      ],
      "text/plain": [
       "       gender  totalyearlycompensation              title\n",
       "264      Male                   140000  Software Engineer\n",
       "265      Male                   172000  Software Engineer\n",
       "266      Male                   325000  Software Engineer\n",
       "269      Male                   150000  Software Engineer\n",
       "270      Male                   640000  Software Engineer\n",
       "...       ...                      ...                ...\n",
       "62610    Male                   135000  Software Engineer\n",
       "62611    Male                   350000  Software Engineer\n",
       "62612  Female                   305000    Product Manager\n",
       "62613    Male                   152000  Software Engineer\n",
       "62641    Male                   200000  Software Engineer\n",
       "\n",
       "[43102 rows x 3 columns]"
      ]
     },
     "execution_count": 22,
     "metadata": {},
     "output_type": "execute_result"
    }
   ],
   "source": [
    "df1"
   ]
  },
  {
   "cell_type": "markdown",
   "id": "6786f2a4",
   "metadata": {},
   "source": [
    "Group the data by gender and job title, and calculate the mean salary for each group"
   ]
  },
  {
   "cell_type": "code",
   "execution_count": 24,
   "id": "5b0d48aa",
   "metadata": {},
   "outputs": [],
   "source": [
    "groups = df1.groupby(['gender', 'title'])['totalyearlycompensation'].mean()"
   ]
  },
  {
   "cell_type": "markdown",
   "id": "e49255de",
   "metadata": {},
   "source": [
    "Calculate the gender pay gap as percentage difference between the mean salary for men and women"
   ]
  },
  {
   "cell_type": "code",
   "execution_count": 26,
   "id": "2621853d",
   "metadata": {},
   "outputs": [],
   "source": [
    "pay_gap_in_percentage = (groups['Male'] - groups['Female']) / groups['Male'] * 100"
   ]
  },
  {
   "cell_type": "markdown",
   "id": "2947d85d",
   "metadata": {},
   "source": [
    "plot the pay gap by job title using a bar chart"
   ]
  },
  {
   "cell_type": "code",
   "execution_count": 28,
   "id": "75943d71",
   "metadata": {},
   "outputs": [
    {
     "data": {
      "image/png": "[encoded data removed]",
      "text/plain": [
       "<Figure size 640x480 with 1 Axes>"
      ]
     },
     "metadata": {},
     "output_type": "display_data"
    }
   ],
   "source": [
    "import matplotlib.pyplot as plt\n",
    "\n",
    "pay_gap_in_percentage.plot(kind='bar')\n",
    "plt.title('Gender Pay Gap in STEM Jobs')\n",
    "plt.xlabel('Job Title')\n",
    "plt.ylabel('Pay Gap (%)')\n",
    "plt.show()"
   ]
  },
  {
   "cell_type": "markdown",
   "id": "50ebd58f",
   "metadata": {},
   "source": [
    "calculate the absolute difference in mean salary between men and women"
   ]
  },
  {
   "cell_type": "code",
   "execution_count": 29,
   "id": "afc8cde0",
   "metadata": {},
   "outputs": [],
   "source": [
    "pay_diff_in_absolute = groups['Male'] - groups['Female']"
   ]
  },
  {
   "cell_type": "code",
   "execution_count": 30,
   "id": "896de945",
   "metadata": {},
   "outputs": [
    {
     "data": {
      "image/png": "[encoded data removed]",
      "text/plain": [
       "<Figure size 640x480 with 1 Axes>"
      ]
     },
     "metadata": {},
     "output_type": "display_data"
    }
   ],
   "source": [
    "# plot the absolute pay difference by job title using a bar chart\n",
    "pay_diff_in_absolute.plot(kind='bar')\n",
    "plt.title('Gender Pay Gap in STEM Jobs (Absolute Difference)')\n",
    "plt.xlabel('Job Title')\n",
    "plt.ylabel('Pay Difference ($)')\n",
    "plt.show()"
   ]
  },
  {
   "cell_type": "markdown",
   "id": "b2324ca1",
   "metadata": {},
   "source": [
    "After examining the bar chart, it is clear that there exists a pay gap between genders. While the positions of Business Analyst and Mechanical Engineer appear to have no pay gap, there is a considerable gap in positions such as Human Resources, Solution Architect, Product Manager, and Marketing, with pay differences ranging from approximately 15% to 20%. This is quivalent to absolute values of 30000 USD to 40000 USD."
   ]
  },
  {
   "cell_type": "markdown",
   "id": "3956e828",
   "metadata": {},
   "source": [
    "### In this part, we will answer the second question"
   ]
  },
  {
   "cell_type": "markdown",
   "id": "7932b179",
   "metadata": {},
   "source": [
    "2. Is there a pay gap between races in STEM jobs?"
   ]
  },
  {
   "cell_type": "code",
   "execution_count": 142,
   "id": "e064c2fc",
   "metadata": {},
   "outputs": [],
   "source": [
    "# Import library\n",
    "import pandas as pd\n",
    "import matplotlib.pyplot as plt"
   ]
  },
  {
   "cell_type": "code",
   "execution_count": 143,
   "id": "cdceab0f",
   "metadata": {},
   "outputs": [],
   "source": [
    "# Filter the dataset to include only the relevant columns\n",
    "race_columns = ['totalyearlycompensation', 'Race_Asian', 'Race_White', 'Race_Black', 'Race_Hispanic']\n",
    "df_race = df[race_columns]"
   ]
  },
  {
   "cell_type": "code",
   "execution_count": 144,
   "id": "9494d6cc",
   "metadata": {},
   "outputs": [],
   "source": [
    "# Calculate the average salary for each race\n",
    "race_salaries = df_race.groupby(['Race_Asian', 'Race_White', 'Race_Black', 'Race_Hispanic'])['totalyearlycompensation'].mean()"
   ]
  },
  {
   "cell_type": "code",
   "execution_count": 51,
   "id": "a04e47f9",
   "metadata": {},
   "outputs": [
    {
     "data": {
      "text/plain": [
       "Race_Asian  Race_White  Race_Black  Race_Hispanic\n",
       "0           0           0           0                226173.992686\n",
       "                                    1                189701.505757\n",
       "                        1           0                181324.637681\n",
       "            1           0           0                206293.700199\n",
       "1           0           0           0                193327.669697\n",
       "                                    1                159000.000000\n",
       "Name: totalyearlycompensation, dtype: float64"
      ]
     },
     "execution_count": 51,
     "metadata": {},
     "output_type": "execute_result"
    }
   ],
   "source": [
    "race_salaries"
   ]
  },
  {
   "cell_type": "markdown",
   "id": "23837aed",
   "metadata": {},
   "source": [
    "The data is in an undersirable format, we need to convert it to the array of the salaries for each ray, which we will only get the second to the fifth data point"
   ]
  },
  {
   "cell_type": "code",
   "execution_count": 95,
   "id": "86b80857",
   "metadata": {},
   "outputs": [],
   "source": [
    "salaries_list = race_salaries.values.tolist()"
   ]
  },
  {
   "cell_type": "code",
   "execution_count": 96,
   "id": "83bb4c1f",
   "metadata": {},
   "outputs": [],
   "source": [
    "salaries_list.reverse()"
   ]
  },
  {
   "cell_type": "code",
   "execution_count": 97,
   "id": "f087c911",
   "metadata": {},
   "outputs": [
    {
     "data": {
      "text/plain": [
       "[159000.0,\n",
       " 193327.66969671226,\n",
       " 206293.7001992032,\n",
       " 181324.63768115942,\n",
       " 189701.50575730734,\n",
       " 226173.9926863161]"
      ]
     },
     "execution_count": 97,
     "metadata": {},
     "output_type": "execute_result"
    }
   ],
   "source": [
    "salaries_list"
   ]
  },
  {
   "cell_type": "code",
   "execution_count": 98,
   "id": "109a002e",
   "metadata": {},
   "outputs": [],
   "source": [
    "salaries = salaries_list[1: 5]"
   ]
  },
  {
   "cell_type": "code",
   "execution_count": 99,
   "id": "a1a53c11",
   "metadata": {},
   "outputs": [
    {
     "data": {
      "text/plain": [
       "[193327.66969671226, 206293.7001992032, 181324.63768115942, 189701.50575730734]"
      ]
     },
     "execution_count": 99,
     "metadata": {},
     "output_type": "execute_result"
    }
   ],
   "source": [
    "salaries"
   ]
  },
  {
   "cell_type": "code",
   "execution_count": 147,
   "id": "a445eced",
   "metadata": {},
   "outputs": [
    {
     "data": {
      "image/png": "[encoded data removed]",
      "text/plain": [
       "<Figure size 640x480 with 1 Axes>"
      ]
     },
     "metadata": {},
     "output_type": "display_data"
    }
   ],
   "source": [
    "# a list of labels for each race\n",
    "race_labels = ['Asian', 'White', 'Black', 'Hispanic']\n",
    "\n",
    "# a list of colors for each race\n",
    "race_colors = ['red', 'green', 'blue', 'orange']\n",
    "\n",
    "# Add the number on top of each column\n",
    "for i, v in enumerate(salaries):\n",
    "    plt.text(i, v+2000, str(int(v)), ha='center')\n",
    "\n",
    "# Plot a bar chart to visualize the average salaries for each race\n",
    "plt.bar(race_labels, salaries, color = race_colors)\n",
    "plt.title('Average Salary for Each Race in STEM Jobs')\n",
    "plt.xlabel('Race')\n",
    "plt.ylabel('Average Salary')\n",
    "plt.show()"
   ]
  },
  {
   "cell_type": "markdown",
   "id": "7f3937f6",
   "metadata": {},
   "source": [
    "Looking at the above bart chart, we can see that the difference in average salaries between races is significant, as the average salaries for each race differ by a significant amount (around $25,000-$35,000). This implies that there may be underlying factors contributing to the pay gap between races in STEM jobs that need to be addressed."
   ]
  },
  {
   "cell_type": "markdown",
   "id": "915e6167",
   "metadata": {},
   "source": [
    "### Above And Beyond"
   ]
  },
  {
   "cell_type": "markdown",
   "id": "8d1380a5",
   "metadata": {},
   "source": [
    "In this part, I will examine the data to see what job title has the highest pay"
   ]
  },
  {
   "cell_type": "code",
   "execution_count": 117,
   "id": "4bbe88ba",
   "metadata": {},
   "outputs": [],
   "source": [
    "# Import necessary library\n",
    "import pandas as pd\n",
    "import matplotlib.pyplot as plt"
   ]
  },
  {
   "cell_type": "code",
   "execution_count": 122,
   "id": "2adfc4ba",
   "metadata": {},
   "outputs": [],
   "source": [
    "# group the data by job title and calculate mean\n",
    "group = df.groupby('title')['totalyearlycompensation'].agg(['mean'])"
   ]
  },
  {
   "cell_type": "code",
   "execution_count": 123,
   "id": "6f843b05",
   "metadata": {},
   "outputs": [
    {
     "data": {
      "text/html": [
       "<div>\n",
       "<style scoped>\n",
       "    .dataframe tbody tr th:only-of-type {\n",
       "        vertical-align: middle;\n",
       "    }\n",
       "\n",
       "    .dataframe tbody tr th {\n",
       "        vertical-align: top;\n",
       "    }\n",
       "\n",
       "    .dataframe thead th {\n",
       "        text-align: right;\n",
       "    }\n",
       "</style>\n",
       "<table border=\"1\" class=\"dataframe\">\n",
       "  <thead>\n",
       "    <tr style=\"text-align: right;\">\n",
       "      <th></th>\n",
       "      <th>mean</th>\n",
       "    </tr>\n",
       "    <tr>\n",
       "      <th>title</th>\n",
       "      <th></th>\n",
       "    </tr>\n",
       "  </thead>\n",
       "  <tbody>\n",
       "    <tr>\n",
       "      <th>Business Analyst</th>\n",
       "      <td>129727.683616</td>\n",
       "    </tr>\n",
       "    <tr>\n",
       "      <th>Data Scientist</th>\n",
       "      <td>203656.710628</td>\n",
       "    </tr>\n",
       "    <tr>\n",
       "      <th>Hardware Engineer</th>\n",
       "      <td>213655.000000</td>\n",
       "    </tr>\n",
       "    <tr>\n",
       "      <th>Human Resources</th>\n",
       "      <td>178711.538462</td>\n",
       "    </tr>\n",
       "    <tr>\n",
       "      <th>Management Consultant</th>\n",
       "      <td>162795.081967</td>\n",
       "    </tr>\n",
       "    <tr>\n",
       "      <th>Marketing</th>\n",
       "      <td>198971.830986</td>\n",
       "    </tr>\n",
       "    <tr>\n",
       "      <th>Mechanical Engineer</th>\n",
       "      <td>158442.857143</td>\n",
       "    </tr>\n",
       "    <tr>\n",
       "      <th>Product Designer</th>\n",
       "      <td>207637.203166</td>\n",
       "    </tr>\n",
       "    <tr>\n",
       "      <th>Product Manager</th>\n",
       "      <td>257813.396105</td>\n",
       "    </tr>\n",
       "    <tr>\n",
       "      <th>Recruiter</th>\n",
       "      <td>155580.931264</td>\n",
       "    </tr>\n",
       "    <tr>\n",
       "      <th>Sales</th>\n",
       "      <td>214273.318872</td>\n",
       "    </tr>\n",
       "    <tr>\n",
       "      <th>Software Engineer</th>\n",
       "      <td>205403.992287</td>\n",
       "    </tr>\n",
       "    <tr>\n",
       "      <th>Software Engineering Manager</th>\n",
       "      <td>354635.752312</td>\n",
       "    </tr>\n",
       "    <tr>\n",
       "      <th>Solution Architect</th>\n",
       "      <td>212736.387208</td>\n",
       "    </tr>\n",
       "    <tr>\n",
       "      <th>Technical Program Manager</th>\n",
       "      <td>237099.927589</td>\n",
       "    </tr>\n",
       "  </tbody>\n",
       "</table>\n",
       "</div>"
      ],
      "text/plain": [
       "                                       mean\n",
       "title                                      \n",
       "Business Analyst              129727.683616\n",
       "Data Scientist                203656.710628\n",
       "Hardware Engineer             213655.000000\n",
       "Human Resources               178711.538462\n",
       "Management Consultant         162795.081967\n",
       "Marketing                     198971.830986\n",
       "Mechanical Engineer           158442.857143\n",
       "Product Designer              207637.203166\n",
       "Product Manager               257813.396105\n",
       "Recruiter                     155580.931264\n",
       "Sales                         214273.318872\n",
       "Software Engineer             205403.992287\n",
       "Software Engineering Manager  354635.752312\n",
       "Solution Architect            212736.387208\n",
       "Technical Program Manager     237099.927589"
      ]
     },
     "execution_count": 123,
     "metadata": {},
     "output_type": "execute_result"
    }
   ],
   "source": [
    "group"
   ]
  },
  {
   "cell_type": "code",
   "execution_count": 124,
   "id": "3eeaf056",
   "metadata": {},
   "outputs": [],
   "source": [
    "# reset the index to create a new dataframe with job titles and mean salary\n",
    "df_mean = group.reset_index()"
   ]
  },
  {
   "cell_type": "code",
   "execution_count": 126,
   "id": "812b4a74",
   "metadata": {},
   "outputs": [
    {
     "data": {
      "text/html": [
       "<div>\n",
       "<style scoped>\n",
       "    .dataframe tbody tr th:only-of-type {\n",
       "        vertical-align: middle;\n",
       "    }\n",
       "\n",
       "    .dataframe tbody tr th {\n",
       "        vertical-align: top;\n",
       "    }\n",
       "\n",
       "    .dataframe thead th {\n",
       "        text-align: right;\n",
       "    }\n",
       "</style>\n",
       "<table border=\"1\" class=\"dataframe\">\n",
       "  <thead>\n",
       "    <tr style=\"text-align: right;\">\n",
       "      <th></th>\n",
       "      <th>title</th>\n",
       "      <th>mean</th>\n",
       "    </tr>\n",
       "  </thead>\n",
       "  <tbody>\n",
       "    <tr>\n",
       "      <th>0</th>\n",
       "      <td>Business Analyst</td>\n",
       "      <td>129727.683616</td>\n",
       "    </tr>\n",
       "    <tr>\n",
       "      <th>1</th>\n",
       "      <td>Data Scientist</td>\n",
       "      <td>203656.710628</td>\n",
       "    </tr>\n",
       "    <tr>\n",
       "      <th>2</th>\n",
       "      <td>Hardware Engineer</td>\n",
       "      <td>213655.000000</td>\n",
       "    </tr>\n",
       "    <tr>\n",
       "      <th>3</th>\n",
       "      <td>Human Resources</td>\n",
       "      <td>178711.538462</td>\n",
       "    </tr>\n",
       "    <tr>\n",
       "      <th>4</th>\n",
       "      <td>Management Consultant</td>\n",
       "      <td>162795.081967</td>\n",
       "    </tr>\n",
       "  </tbody>\n",
       "</table>\n",
       "</div>"
      ],
      "text/plain": [
       "                   title           mean\n",
       "0       Business Analyst  129727.683616\n",
       "1         Data Scientist  203656.710628\n",
       "2      Hardware Engineer  213655.000000\n",
       "3        Human Resources  178711.538462\n",
       "4  Management Consultant  162795.081967"
      ]
     },
     "execution_count": 126,
     "metadata": {},
     "output_type": "execute_result"
    }
   ],
   "source": [
    "df_mean.head()"
   ]
  },
  {
   "cell_type": "code",
   "execution_count": 138,
   "id": "4c883028",
   "metadata": {},
   "outputs": [],
   "source": [
    "# sort the new dataframe by mean compensation in descending order\n",
    "df_mean = df_mean.sort_values('mean', ascending=False)"
   ]
  },
  {
   "cell_type": "code",
   "execution_count": 141,
   "id": "7f78419f",
   "metadata": {},
   "outputs": [
    {
     "data": {
      "image/png": "[encoded data removed]",
      "text/plain": [
       "<Figure size 640x480 with 1 Axes>"
      ]
     },
     "metadata": {},
     "output_type": "display_data"
    }
   ],
   "source": [
    "# create a bar chart of mean compensation\n",
    "plt.bar(df_mean['title'], df_mean['mean'])\n",
    "plt.xticks(rotation=90)\n",
    "plt.xlabel('Job Title')\n",
    "plt.ylabel('Total Yearly Compensation ($)')\n",
    "plt.title('Average Salary for Different STEM Jobs')\n",
    "plt.show()"
   ]
  },
  {
   "cell_type": "markdown",
   "id": "b48d387b",
   "metadata": {},
   "source": [
    "Looking the the above bar chart, "
   ]
  }
 ],
 "metadata": {
  "kernelspec": {
   "display_name": "Python 3 (ipykernel)",
   "language": "python",
   "name": "python3"
  },
  "language_info": {
   "codemirror_mode": {
    "name": "ipython",
    "version": 3
   },
   "file_extension": ".py",
   "mimetype": "text/x-python",
   "name": "python",
   "nbconvert_exporter": "python",
   "pygments_lexer": "ipython3",
   "version": "3.9.13"
  }
 },
 "nbformat": 4,
 "nbformat_minor": 5
}
